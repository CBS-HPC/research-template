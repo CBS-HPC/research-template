{
 "cells": [
  {
   "cell_type": "code",
   "execution_count": 18,
   "id": "93684453",
   "metadata": {},
   "outputs": [
    {
     "name": "stdout",
     "output_type": "stream",
     "text": [
      "✅ TOML loaded successfully.\n",
      "{'pywin32': 'win32', 'pypiwin32': 'win32', 'pywinpty': 'win32', 'wmi': 'win32', 'pync': 'darwin', 'pyobjc': 'darwin', 'dbus-python': 'linux', 'pygobject': 'linux', 'pyudev': 'linux'}\n"
     ]
    }
   ],
   "source": [
    "import sys\n",
    "\n",
    "#if sys.version_info < (3, 11):\n",
    "import toml\n",
    "#else:\n",
    "#    import tomllib as toml\n",
    "\n",
    "try:\n",
    "    with open(\"pyproject.toml\", \"r\", encoding=\"utf-8\") as f:\n",
    "        parsed = toml.load(f)\n",
    "    print(\"✅ TOML loaded successfully.\")\n",
    "    print(parsed.get(\"tool\", {}).get(\"platform_rules\", {}))\n",
    "except Exception as e:\n",
    "    print(\"❌ Parse failed:\", e)\n"
   ]
  },
  {
   "cell_type": "code",
   "execution_count": 11,
   "id": "0177303c",
   "metadata": {},
   "outputs": [
    {
     "name": "stdout",
     "output_type": "stream",
     "text": [
      "toml (PyPI):\n",
      "{'tool': {'platform_rules': {'pywin32': 'win32', 'pypiwin32': 'win32', 'pywinpty': 'win32', 'wmi': 'win32', 'pync': 'darwin', 'pyobjc': 'darwin', 'dbus-python': 'linux', 'pygobject': 'linux', 'pyudev': 'linux'}}}\n"
     ]
    }
   ],
   "source": [
    "with open(\"pyproject.toml\", \"rb\") as f:\n",
    "    content = f.read()\n",
    "\n",
    "# Parse with toml (if installed)\n",
    "try:\n",
    "    import toml\n",
    "    print(\"toml (PyPI):\")\n",
    "    print(toml.loads(content.decode(\"utf-8\")))\n",
    "except Exception as e:\n",
    "    print(\"toml failed:\", e)\n",
    "\n",
    "\n"
   ]
  },
  {
   "cell_type": "code",
   "execution_count": 3,
   "id": "49b330f9",
   "metadata": {},
   "outputs": [
    {
     "name": "stdout",
     "output_type": "stream",
     "text": [
      "[tool.rcloneignore]\n",
      "patterns = [\n",
      "\"bin/\",\n",
      "\".venv/\",\n",
      "\".conda/\"\n",
      "]\n",
      "\n",
      "[tool.treeignore]\n",
      "patterns = [\n",
      "\"bin/\",\n",
      "\"utils/\",\n",
      "\".conda/\",\n",
      "\".venv/\",\n",
      "\"renv/\",\n",
      "\".git/\",\n",
      "\".datalad/\",\n",
      "\".gitkeep\",\n",
      "\".env\",\n",
      "\"__pycache__\"\n",
      "]\n",
      "\n",
      "[tool.platform_rules]\n",
      "pywin32 = \"win32\"\n",
      "pypiwin32 = \"win32\"\n",
      "pywinpty = \"win32\"\n",
      "wmi = \"win32\"\n",
      "pync = \"darwin\"\n",
      "pyobjc = \"darwin\"\n",
      "dbus-python = \"linux\"\n",
      "pygobject = \"linux\"\n",
      "pyudev = \"linux\"\n"
     ]
    }
   ],
   "source": [
    "with open(\"pyproject.toml\", \"rb\") as f:\n",
    "    content = f.read()\n",
    "    try:\n",
    "        decoded = content.decode(\"utf-8\", errors=\"strict\")\n",
    "        print(decoded)\n",
    "    except UnicodeDecodeError as e:\n",
    "        print(\"❌ Encoding error:\", e)\n"
   ]
  }
 ],
 "metadata": {
  "kernelspec": {
   "display_name": "base",
   "language": "python",
   "name": "python3"
  },
  "language_info": {
   "codemirror_mode": {
    "name": "ipython",
    "version": 3
   },
   "file_extension": ".py",
   "mimetype": "text/x-python",
   "name": "python",
   "nbconvert_exporter": "python",
   "pygments_lexer": "ipython3",
   "version": "3.9.13"
  }
 },
 "nbformat": 4,
 "nbformat_minor": 5
}
