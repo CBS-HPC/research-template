{
 "cells": [
  {
   "cell_type": "code",
   "execution_count": null,
   "id": "50a4bf23",
   "metadata": {},
   "outputs": [],
   "source": [
    "import os\n",
    "\n",
    "def create_empty_files(folder_path=\"empty_files\", num_files=1100):\n",
    "    # Create the folder if it doesn't exist\n",
    "    os.makedirs(folder_path, exist_ok=True)\n",
    "\n",
    "    # Create empty files\n",
    "    for i in range(1, num_files + 1):\n",
    "        file_path = os.path.join(folder_path, f\"file_{i}.txt\")\n",
    "        with open(file_path, 'w') as f:\n",
    "            pass  # Empty file\n",
    "\n",
    "    print(f\"Created {num_files} empty files in '{folder_path}'.\")\n",
    "\n",
    "create_empty_files()\n"
   ]
  }
 ],
 "metadata": {
  "kernelspec": {
   "display_name": "base",
   "language": "python",
   "name": "python3"
  },
  "language_info": {
   "name": "python",
   "version": "3.13.5"
  }
 },
 "nbformat": 4,
 "nbformat_minor": 5
}
