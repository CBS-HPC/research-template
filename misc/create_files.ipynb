{
 "cells": [
  {
   "cell_type": "code",
   "execution_count": null,
   "id": "50a4bf23",
   "metadata": {},
   "outputs": [],
   "source": [
    "import os\n",
    "\n",
    "def create_files(folder_path=\"files\", num_files=2000, file_size=0, chunk_size=1024*1024):\n",
    "    \"\"\"\n",
    "    Create files with specified size.\n",
    "    \n",
    "    Parameters:\n",
    "    - folder_path: str, directory to store files\n",
    "    - num_files: int, number of files\n",
    "    - file_size: int, size in bytes (default 0 = empty files)\n",
    "    - chunk_size: int, how many bytes to write per chunk (default 1 MB)\n",
    "    \"\"\"\n",
    "    os.makedirs(folder_path, exist_ok=True)\n",
    "\n",
    "    # Prepare a reusable chunk of data (e.g., null bytes)\n",
    "    chunk = b'\\0' * chunk_size\n",
    "\n",
    "    for i in range(1, num_files + 1):\n",
    "        file_path = os.path.join(folder_path, f\"file_{i}.txt\")\n",
    "        with open(file_path, 'wb') as f:\n",
    "            remaining = file_size\n",
    "            while remaining > 0:\n",
    "                f.write(chunk if remaining >= chunk_size else chunk[:remaining])\n",
    "                remaining -= chunk_size\n",
    "\n",
    "    print(f\"Created {num_files} files in '{folder_path}', \"\n",
    "          f\"each {file_size} bytes.\")\n",
    "\n",
    "# Examples:\n",
    "\n",
    "create_files(num_files=20, file_size=10**8)       # 2 files, 100 MB each\n",
    "\n"
   ]
  }
 ],
 "metadata": {
  "kernelspec": {
   "display_name": "base",
   "language": "python",
   "name": "python3"
  },
  "language_info": {
   "name": "python",
   "version": "3.13.5"
  }
 },
 "nbformat": 4,
 "nbformat_minor": 5
}
